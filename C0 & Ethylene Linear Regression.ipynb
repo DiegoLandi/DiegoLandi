{
 "cells": [
  {
   "cell_type": "code",
   "execution_count": 10,
   "id": "14003418",
   "metadata": {},
   "outputs": [],
   "source": [
    "import math\n",
    "import seaborn as sns\n",
    "sns.set(style=\"whitegrid\", color_codes=True)\n",
    "from __future__ import print_function\n",
    "import os\n",
    "import pandas as pd # data processing, CSV file I/O (e.g. pd.read_csv)\n",
    "import numpy as np # linear algebra\n",
    "import matplotlib \n",
    "import matplotlib.pyplot as plt\n",
    "from sklearn.linear_model import LinearRegression\n",
    "from sklearn.metrics import mean_squared_error\n",
    "from sklearn.model_selection import train_test_split\n",
    "from sklearn.model_selection import GridSearchCV\n",
    "from sklearn.ensemble import RandomForestRegressor\n",
    "import warnings\n",
    "from sklearn.preprocessing import StandardScaler,MinMaxScaler,MaxAbsScaler\n",
    "from sklearn.svm import SVR\n",
    "from sklearn.neighbors import KNeighborsRegressor\n",
    "warnings.filterwarnings('ignore',module = 'sklearn')\n",
    "\n",
    "df = pd.read_csv('Desktop/ethylene_CO.txt', delim_whitespace=True, skiprows=[0], header=None)\n",
    "df = df.rename(columns = {0:'Time (seconds)', 1:'CO conc (ppm)', 2:'Ethylene conc (ppm)', 3:'Sensor1',4:'Sensor2',5:'Sensor3',6:'Sensor4',7:'Sensor5',8:'Sensor6',9:'Sensor7',10:'Sensor8',11:'Sensor9',12:'Sensor10',13:'Sensor11',14:'Sensor12',15:'Sensor13',16:'Sensor14',17:'Sensor15',18:'Sensor16'})\n"
   ]
  },
  {
   "cell_type": "code",
   "execution_count": 11,
   "id": "924884ca",
   "metadata": {},
   "outputs": [
    {
     "data": {
      "text/html": [
       "<div>\n",
       "<style scoped>\n",
       "    .dataframe tbody tr th:only-of-type {\n",
       "        vertical-align: middle;\n",
       "    }\n",
       "\n",
       "    .dataframe tbody tr th {\n",
       "        vertical-align: top;\n",
       "    }\n",
       "\n",
       "    .dataframe thead th {\n",
       "        text-align: right;\n",
       "    }\n",
       "</style>\n",
       "<table border=\"1\" class=\"dataframe\">\n",
       "  <thead>\n",
       "    <tr style=\"text-align: right;\">\n",
       "      <th></th>\n",
       "      <th>Time (seconds)</th>\n",
       "      <th>CO conc (ppm)</th>\n",
       "      <th>Ethylene conc (ppm)</th>\n",
       "      <th>Sensor1</th>\n",
       "      <th>Sensor2</th>\n",
       "      <th>Sensor3</th>\n",
       "      <th>Sensor4</th>\n",
       "      <th>Sensor5</th>\n",
       "      <th>Sensor6</th>\n",
       "      <th>Sensor7</th>\n",
       "      <th>Sensor8</th>\n",
       "      <th>Sensor9</th>\n",
       "      <th>Sensor10</th>\n",
       "      <th>Sensor11</th>\n",
       "      <th>Sensor12</th>\n",
       "      <th>Sensor13</th>\n",
       "      <th>Sensor14</th>\n",
       "      <th>Sensor15</th>\n",
       "      <th>Sensor16</th>\n",
       "    </tr>\n",
       "  </thead>\n",
       "  <tbody>\n",
       "    <tr>\n",
       "      <th>0</th>\n",
       "      <td>0.00</td>\n",
       "      <td>0.0</td>\n",
       "      <td>0.0</td>\n",
       "      <td>-50.85</td>\n",
       "      <td>-1.95</td>\n",
       "      <td>-41.82</td>\n",
       "      <td>1.30</td>\n",
       "      <td>-4.07</td>\n",
       "      <td>-28.73</td>\n",
       "      <td>-13.49</td>\n",
       "      <td>-3.25</td>\n",
       "      <td>55139.95</td>\n",
       "      <td>50669.50</td>\n",
       "      <td>9626.26</td>\n",
       "      <td>9762.62</td>\n",
       "      <td>24544.02</td>\n",
       "      <td>21420.68</td>\n",
       "      <td>7650.61</td>\n",
       "      <td>6928.42</td>\n",
       "    </tr>\n",
       "    <tr>\n",
       "      <th>1</th>\n",
       "      <td>0.01</td>\n",
       "      <td>0.0</td>\n",
       "      <td>0.0</td>\n",
       "      <td>-49.40</td>\n",
       "      <td>-5.53</td>\n",
       "      <td>-42.78</td>\n",
       "      <td>0.49</td>\n",
       "      <td>3.58</td>\n",
       "      <td>-34.55</td>\n",
       "      <td>-9.59</td>\n",
       "      <td>5.37</td>\n",
       "      <td>54395.77</td>\n",
       "      <td>50046.91</td>\n",
       "      <td>9433.20</td>\n",
       "      <td>9591.21</td>\n",
       "      <td>24137.13</td>\n",
       "      <td>20930.33</td>\n",
       "      <td>7498.79</td>\n",
       "      <td>6800.66</td>\n",
       "    </tr>\n",
       "    <tr>\n",
       "      <th>2</th>\n",
       "      <td>0.01</td>\n",
       "      <td>0.0</td>\n",
       "      <td>0.0</td>\n",
       "      <td>-40.04</td>\n",
       "      <td>-16.09</td>\n",
       "      <td>-27.59</td>\n",
       "      <td>0.00</td>\n",
       "      <td>-7.16</td>\n",
       "      <td>-42.14</td>\n",
       "      <td>-12.52</td>\n",
       "      <td>-5.86</td>\n",
       "      <td>53960.02</td>\n",
       "      <td>49299.30</td>\n",
       "      <td>9324.40</td>\n",
       "      <td>9449.81</td>\n",
       "      <td>23628.90</td>\n",
       "      <td>20504.94</td>\n",
       "      <td>7369.67</td>\n",
       "      <td>6697.47</td>\n",
       "    </tr>\n",
       "    <tr>\n",
       "      <th>3</th>\n",
       "      <td>0.03</td>\n",
       "      <td>0.0</td>\n",
       "      <td>0.0</td>\n",
       "      <td>-47.14</td>\n",
       "      <td>-10.57</td>\n",
       "      <td>-32.28</td>\n",
       "      <td>4.40</td>\n",
       "      <td>-11.22</td>\n",
       "      <td>-37.94</td>\n",
       "      <td>-7.16</td>\n",
       "      <td>-1.14</td>\n",
       "      <td>53047.71</td>\n",
       "      <td>48907.00</td>\n",
       "      <td>9170.64</td>\n",
       "      <td>9305.58</td>\n",
       "      <td>23101.66</td>\n",
       "      <td>20101.42</td>\n",
       "      <td>7285.13</td>\n",
       "      <td>6578.52</td>\n",
       "    </tr>\n",
       "    <tr>\n",
       "      <th>4</th>\n",
       "      <td>0.04</td>\n",
       "      <td>0.0</td>\n",
       "      <td>0.0</td>\n",
       "      <td>-33.58</td>\n",
       "      <td>-20.79</td>\n",
       "      <td>-33.25</td>\n",
       "      <td>6.03</td>\n",
       "      <td>3.42</td>\n",
       "      <td>-34.22</td>\n",
       "      <td>-14.46</td>\n",
       "      <td>8.31</td>\n",
       "      <td>52700.28</td>\n",
       "      <td>48330.96</td>\n",
       "      <td>9073.64</td>\n",
       "      <td>9163.47</td>\n",
       "      <td>22689.54</td>\n",
       "      <td>19694.07</td>\n",
       "      <td>7156.74</td>\n",
       "      <td>6468.32</td>\n",
       "    </tr>\n",
       "  </tbody>\n",
       "</table>\n",
       "</div>"
      ],
      "text/plain": [
       "   Time (seconds)  CO conc (ppm)  Ethylene conc (ppm)  Sensor1  Sensor2  \\\n",
       "0            0.00            0.0                  0.0   -50.85    -1.95   \n",
       "1            0.01            0.0                  0.0   -49.40    -5.53   \n",
       "2            0.01            0.0                  0.0   -40.04   -16.09   \n",
       "3            0.03            0.0                  0.0   -47.14   -10.57   \n",
       "4            0.04            0.0                  0.0   -33.58   -20.79   \n",
       "\n",
       "   Sensor3  Sensor4  Sensor5  Sensor6  Sensor7  Sensor8   Sensor9  Sensor10  \\\n",
       "0   -41.82     1.30    -4.07   -28.73   -13.49    -3.25  55139.95  50669.50   \n",
       "1   -42.78     0.49     3.58   -34.55    -9.59     5.37  54395.77  50046.91   \n",
       "2   -27.59     0.00    -7.16   -42.14   -12.52    -5.86  53960.02  49299.30   \n",
       "3   -32.28     4.40   -11.22   -37.94    -7.16    -1.14  53047.71  48907.00   \n",
       "4   -33.25     6.03     3.42   -34.22   -14.46     8.31  52700.28  48330.96   \n",
       "\n",
       "   Sensor11  Sensor12  Sensor13  Sensor14  Sensor15  Sensor16  \n",
       "0   9626.26   9762.62  24544.02  21420.68   7650.61   6928.42  \n",
       "1   9433.20   9591.21  24137.13  20930.33   7498.79   6800.66  \n",
       "2   9324.40   9449.81  23628.90  20504.94   7369.67   6697.47  \n",
       "3   9170.64   9305.58  23101.66  20101.42   7285.13   6578.52  \n",
       "4   9073.64   9163.47  22689.54  19694.07   7156.74   6468.32  "
      ]
     },
     "execution_count": 11,
     "metadata": {},
     "output_type": "execute_result"
    }
   ],
   "source": [
    "df.head()"
   ]
  },
  {
   "cell_type": "code",
   "execution_count": 12,
   "id": "0daa986f",
   "metadata": {},
   "outputs": [
    {
     "data": {
      "text/html": [
       "<div>\n",
       "<style scoped>\n",
       "    .dataframe tbody tr th:only-of-type {\n",
       "        vertical-align: middle;\n",
       "    }\n",
       "\n",
       "    .dataframe tbody tr th {\n",
       "        vertical-align: top;\n",
       "    }\n",
       "\n",
       "    .dataframe thead th {\n",
       "        text-align: right;\n",
       "    }\n",
       "</style>\n",
       "<table border=\"1\" class=\"dataframe\">\n",
       "  <thead>\n",
       "    <tr style=\"text-align: right;\">\n",
       "      <th></th>\n",
       "      <th>count</th>\n",
       "      <th>mean</th>\n",
       "      <th>std</th>\n",
       "      <th>min</th>\n",
       "      <th>25%</th>\n",
       "      <th>50%</th>\n",
       "      <th>75%</th>\n",
       "      <th>max</th>\n",
       "    </tr>\n",
       "  </thead>\n",
       "  <tbody>\n",
       "    <tr>\n",
       "      <th>Time (seconds)</th>\n",
       "      <td>4208261.0</td>\n",
       "      <td>21044.590636</td>\n",
       "      <td>12149.981299</td>\n",
       "      <td>0.00</td>\n",
       "      <td>10521.23</td>\n",
       "      <td>21045.91</td>\n",
       "      <td>31566.78</td>\n",
       "      <td>42087.55</td>\n",
       "    </tr>\n",
       "    <tr>\n",
       "      <th>CO conc (ppm)</th>\n",
       "      <td>4208261.0</td>\n",
       "      <td>127.620212</td>\n",
       "      <td>160.777249</td>\n",
       "      <td>0.00</td>\n",
       "      <td>0.00</td>\n",
       "      <td>0.00</td>\n",
       "      <td>266.67</td>\n",
       "      <td>533.33</td>\n",
       "    </tr>\n",
       "    <tr>\n",
       "      <th>Ethylene conc (ppm)</th>\n",
       "      <td>4208261.0</td>\n",
       "      <td>5.320436</td>\n",
       "      <td>5.624127</td>\n",
       "      <td>0.00</td>\n",
       "      <td>0.00</td>\n",
       "      <td>6.67</td>\n",
       "      <td>10.00</td>\n",
       "      <td>20.00</td>\n",
       "    </tr>\n",
       "    <tr>\n",
       "      <th>Sensor1</th>\n",
       "      <td>4208261.0</td>\n",
       "      <td>2065.616641</td>\n",
       "      <td>790.260877</td>\n",
       "      <td>-52.62</td>\n",
       "      <td>1323.47</td>\n",
       "      <td>1789.09</td>\n",
       "      <td>2869.44</td>\n",
       "      <td>3553.64</td>\n",
       "    </tr>\n",
       "    <tr>\n",
       "      <th>Sensor2</th>\n",
       "      <td>4208261.0</td>\n",
       "      <td>506.218365</td>\n",
       "      <td>1530.128267</td>\n",
       "      <td>-36.49</td>\n",
       "      <td>9.12</td>\n",
       "      <td>38.89</td>\n",
       "      <td>158.90</td>\n",
       "      <td>28116.51</td>\n",
       "    </tr>\n",
       "    <tr>\n",
       "      <th>Sensor3</th>\n",
       "      <td>4208261.0</td>\n",
       "      <td>4372.538655</td>\n",
       "      <td>1608.017952</td>\n",
       "      <td>-45.04</td>\n",
       "      <td>2986.96</td>\n",
       "      <td>4494.33</td>\n",
       "      <td>5658.29</td>\n",
       "      <td>8641.34</td>\n",
       "    </tr>\n",
       "    <tr>\n",
       "      <th>Sensor4</th>\n",
       "      <td>4208261.0</td>\n",
       "      <td>4799.249607</td>\n",
       "      <td>1733.016940</td>\n",
       "      <td>-8.94</td>\n",
       "      <td>3282.31</td>\n",
       "      <td>4946.72</td>\n",
       "      <td>6178.21</td>\n",
       "      <td>9221.02</td>\n",
       "    </tr>\n",
       "    <tr>\n",
       "      <th>Sensor5</th>\n",
       "      <td>4208261.0</td>\n",
       "      <td>1894.957168</td>\n",
       "      <td>439.537263</td>\n",
       "      <td>-12.19</td>\n",
       "      <td>1503.46</td>\n",
       "      <td>1984.55</td>\n",
       "      <td>2262.74</td>\n",
       "      <td>2904.04</td>\n",
       "    </tr>\n",
       "    <tr>\n",
       "      <th>Sensor6</th>\n",
       "      <td>4208261.0</td>\n",
       "      <td>2214.692483</td>\n",
       "      <td>435.398721</td>\n",
       "      <td>-42.14</td>\n",
       "      <td>1856.65</td>\n",
       "      <td>2272.78</td>\n",
       "      <td>2566.47</td>\n",
       "      <td>3502.11</td>\n",
       "    </tr>\n",
       "    <tr>\n",
       "      <th>Sensor7</th>\n",
       "      <td>4208261.0</td>\n",
       "      <td>5086.639480</td>\n",
       "      <td>1966.451294</td>\n",
       "      <td>-23.22</td>\n",
       "      <td>3241.95</td>\n",
       "      <td>5224.88</td>\n",
       "      <td>6719.28</td>\n",
       "      <td>9883.50</td>\n",
       "    </tr>\n",
       "    <tr>\n",
       "      <th>Sensor8</th>\n",
       "      <td>4208261.0</td>\n",
       "      <td>5385.428208</td>\n",
       "      <td>2072.382914</td>\n",
       "      <td>-13.82</td>\n",
       "      <td>3448.62</td>\n",
       "      <td>5537.91</td>\n",
       "      <td>7104.20</td>\n",
       "      <td>10521.04</td>\n",
       "    </tr>\n",
       "    <tr>\n",
       "      <th>Sensor9</th>\n",
       "      <td>4208261.0</td>\n",
       "      <td>1186.241463</td>\n",
       "      <td>453.171885</td>\n",
       "      <td>159.74</td>\n",
       "      <td>934.33</td>\n",
       "      <td>1140.32</td>\n",
       "      <td>1543.66</td>\n",
       "      <td>55139.95</td>\n",
       "    </tr>\n",
       "    <tr>\n",
       "      <th>Sensor10</th>\n",
       "      <td>4208261.0</td>\n",
       "      <td>1219.252279</td>\n",
       "      <td>430.876465</td>\n",
       "      <td>215.31</td>\n",
       "      <td>941.92</td>\n",
       "      <td>1176.60</td>\n",
       "      <td>1557.78</td>\n",
       "      <td>50669.50</td>\n",
       "    </tr>\n",
       "    <tr>\n",
       "      <th>Sensor11</th>\n",
       "      <td>4208261.0</td>\n",
       "      <td>4871.078940</td>\n",
       "      <td>1707.681319</td>\n",
       "      <td>862.22</td>\n",
       "      <td>3435.68</td>\n",
       "      <td>5016.13</td>\n",
       "      <td>6126.83</td>\n",
       "      <td>9626.26</td>\n",
       "    </tr>\n",
       "    <tr>\n",
       "      <th>Sensor12</th>\n",
       "      <td>4208261.0</td>\n",
       "      <td>3926.249983</td>\n",
       "      <td>1364.496251</td>\n",
       "      <td>865.49</td>\n",
       "      <td>2728.93</td>\n",
       "      <td>4120.24</td>\n",
       "      <td>4967.48</td>\n",
       "      <td>9762.62</td>\n",
       "    </tr>\n",
       "    <tr>\n",
       "      <th>Sensor13</th>\n",
       "      <td>4208261.0</td>\n",
       "      <td>928.187700</td>\n",
       "      <td>167.756128</td>\n",
       "      <td>609.57</td>\n",
       "      <td>808.34</td>\n",
       "      <td>929.86</td>\n",
       "      <td>1033.49</td>\n",
       "      <td>24544.02</td>\n",
       "    </tr>\n",
       "    <tr>\n",
       "      <th>Sensor14</th>\n",
       "      <td>4208261.0</td>\n",
       "      <td>1035.771993</td>\n",
       "      <td>174.108526</td>\n",
       "      <td>673.89</td>\n",
       "      <td>910.25</td>\n",
       "      <td>1060.70</td>\n",
       "      <td>1161.37</td>\n",
       "      <td>21420.68</td>\n",
       "    </tr>\n",
       "    <tr>\n",
       "      <th>Sensor15</th>\n",
       "      <td>4208261.0</td>\n",
       "      <td>5289.323241</td>\n",
       "      <td>1984.056520</td>\n",
       "      <td>546.73</td>\n",
       "      <td>3642.12</td>\n",
       "      <td>5320.55</td>\n",
       "      <td>6739.32</td>\n",
       "      <td>10665.30</td>\n",
       "    </tr>\n",
       "    <tr>\n",
       "      <th>Sensor16</th>\n",
       "      <td>4208261.0</td>\n",
       "      <td>4309.685199</td>\n",
       "      <td>1584.038040</td>\n",
       "      <td>488.58</td>\n",
       "      <td>2805.07</td>\n",
       "      <td>4543.04</td>\n",
       "      <td>5565.07</td>\n",
       "      <td>7874.49</td>\n",
       "    </tr>\n",
       "  </tbody>\n",
       "</table>\n",
       "</div>"
      ],
      "text/plain": [
       "                         count          mean           std     min       25%  \\\n",
       "Time (seconds)       4208261.0  21044.590636  12149.981299    0.00  10521.23   \n",
       "CO conc (ppm)        4208261.0    127.620212    160.777249    0.00      0.00   \n",
       "Ethylene conc (ppm)  4208261.0      5.320436      5.624127    0.00      0.00   \n",
       "Sensor1              4208261.0   2065.616641    790.260877  -52.62   1323.47   \n",
       "Sensor2              4208261.0    506.218365   1530.128267  -36.49      9.12   \n",
       "Sensor3              4208261.0   4372.538655   1608.017952  -45.04   2986.96   \n",
       "Sensor4              4208261.0   4799.249607   1733.016940   -8.94   3282.31   \n",
       "Sensor5              4208261.0   1894.957168    439.537263  -12.19   1503.46   \n",
       "Sensor6              4208261.0   2214.692483    435.398721  -42.14   1856.65   \n",
       "Sensor7              4208261.0   5086.639480   1966.451294  -23.22   3241.95   \n",
       "Sensor8              4208261.0   5385.428208   2072.382914  -13.82   3448.62   \n",
       "Sensor9              4208261.0   1186.241463    453.171885  159.74    934.33   \n",
       "Sensor10             4208261.0   1219.252279    430.876465  215.31    941.92   \n",
       "Sensor11             4208261.0   4871.078940   1707.681319  862.22   3435.68   \n",
       "Sensor12             4208261.0   3926.249983   1364.496251  865.49   2728.93   \n",
       "Sensor13             4208261.0    928.187700    167.756128  609.57    808.34   \n",
       "Sensor14             4208261.0   1035.771993    174.108526  673.89    910.25   \n",
       "Sensor15             4208261.0   5289.323241   1984.056520  546.73   3642.12   \n",
       "Sensor16             4208261.0   4309.685199   1584.038040  488.58   2805.07   \n",
       "\n",
       "                          50%       75%       max  \n",
       "Time (seconds)       21045.91  31566.78  42087.55  \n",
       "CO conc (ppm)            0.00    266.67    533.33  \n",
       "Ethylene conc (ppm)      6.67     10.00     20.00  \n",
       "Sensor1               1789.09   2869.44   3553.64  \n",
       "Sensor2                 38.89    158.90  28116.51  \n",
       "Sensor3               4494.33   5658.29   8641.34  \n",
       "Sensor4               4946.72   6178.21   9221.02  \n",
       "Sensor5               1984.55   2262.74   2904.04  \n",
       "Sensor6               2272.78   2566.47   3502.11  \n",
       "Sensor7               5224.88   6719.28   9883.50  \n",
       "Sensor8               5537.91   7104.20  10521.04  \n",
       "Sensor9               1140.32   1543.66  55139.95  \n",
       "Sensor10              1176.60   1557.78  50669.50  \n",
       "Sensor11              5016.13   6126.83   9626.26  \n",
       "Sensor12              4120.24   4967.48   9762.62  \n",
       "Sensor13               929.86   1033.49  24544.02  \n",
       "Sensor14              1060.70   1161.37  21420.68  \n",
       "Sensor15              5320.55   6739.32  10665.30  \n",
       "Sensor16              4543.04   5565.07   7874.49  "
      ]
     },
     "execution_count": 12,
     "metadata": {},
     "output_type": "execute_result"
    }
   ],
   "source": [
    "df.describe().T"
   ]
  },
  {
   "cell_type": "code",
   "execution_count": 4,
   "id": "7eb43572",
   "metadata": {},
   "outputs": [
    {
     "name": "stdout",
     "output_type": "stream",
     "text": [
      "r2 / variance :  0.6888462682887285\n",
      "Residual sum of squares: 0.03\n"
     ]
    }
   ],
   "source": [
    "#Using MinMax\n",
    "msc = MinMaxScaler()\n",
    "\n",
    "df = pd.DataFrame(msc.fit_transform(df),columns = df.columns)\n",
    "\n",
    "y_co2 = 'CO conc ppm)'\n",
    "feature_cols = [x for x in df.columns if x != y_co2]\n",
    "X_data = df[feature_cols]\n",
    "y_data_co2 = df[y_co2]\n",
    "\n",
    "X_train, X_test, y_train, y_test = train_test_split(X_data, y_data_co2,\n",
    "                                                    test_size=0.3, random_state=42)\n",
    "\n",
    "LR = LinearRegression()\n",
    "parameters = {'fit_intercept':[True,False], 'normalize':[True,False], 'copy_X':[True, False]}\n",
    "grid = GridSearchCV(LR,parameters, cv=3)\n",
    "grid.fit(X_train, y_train)\n",
    "\n",
    "print (\"r2 / variance : \", grid.best_score_)\n",
    "print(\"Residual sum of squares: %.2f\"\n",
    "              % np.mean((grid.predict(X_test) - y_test) ** 2))\n",
    "\n",
    "minmaxscaler_r2 = grid.best_score_\n",
    "minmaxscaler_residual = np.mean((grid.predict(X_test) - y_test) ** 2)\n",
    "minmaxscaler_squared = mean_squared_error(y_test,grid.predict(X_test))"
   ]
  },
  {
   "cell_type": "code",
   "execution_count": 5,
   "id": "61bad8bb",
   "metadata": {},
   "outputs": [
    {
     "data": {
      "text/plain": [
       "LinearRegression()"
      ]
     },
     "execution_count": 5,
     "metadata": {},
     "output_type": "execute_result"
    }
   ],
   "source": [
    "grid.best_estimator_"
   ]
  },
  {
   "cell_type": "code",
   "execution_count": 7,
   "id": "580e3036",
   "metadata": {},
   "outputs": [
    {
     "data": {
      "image/png": "[encoded data removed]",
      "text/plain": [
       "<Figure size 432x288 with 1 Axes>"
      ]
     },
     "metadata": {},
     "output_type": "display_data"
    }
   ],
   "source": [
    "%matplotlib inline\n",
    "\n",
    "sns.set_context('talk')\n",
    "sns.set_style('ticks')\n",
    "sns.set_palette('dark')\n",
    "\n",
    "ax = plt.axes()\n",
    "\n",
    "ax.scatter(y_test,grid.predict(X_test),alpha=0.5)\n",
    "\n",
    "ax.set(xlabel='Ground Truth',\n",
    "      ylabel = 'Predictions',\n",
    "      title = 'Carbon Monoxide MinMax Scaler Predictions vs Ground Truth');"
   ]
  },
  {
   "cell_type": "code",
   "execution_count": 25,
   "id": "f59f9930",
   "metadata": {},
   "outputs": [
    {
     "name": "stdout",
     "output_type": "stream",
     "text": [
      "r2 / variance :  0.6888462880627936\n",
      "Residual sum of squares: 0.31\n"
     ]
    }
   ],
   "source": [
    "#Using Std Scaler\n",
    "std = StandardScaler()\n",
    "\n",
    "df = pd.DataFrame(std.fit_transform(df),columns = df.columns)\n",
    "\n",
    "y_co2 = 'CO conc (ppm)'\n",
    "feature_cols = [x for x in df.columns if x != y_co2]\n",
    "X_data = df[feature_cols]\n",
    "y_data_co2 = df[y_co2]\n",
    "\n",
    "X_train, X_test, y_train, y_test = train_test_split(X_data, y_data_co2,\n",
    "                                                    test_size=0.3, random_state=42)\n",
    "\n",
    "LR = LinearRegression()\n",
    "parameters = {'fit_intercept':[True,False], 'normalize':[True,False], 'copy_X':[True, False]}\n",
    "grid = GridSearchCV(LR,parameters, cv=3)\n",
    "grid.fit(X_train, y_train)\n",
    "\n",
    "print (\"r2 / variance : \", grid.best_score_)\n",
    "print(\"Residual sum of squares: %.2f\"\n",
    "              % np.mean((grid.predict(X_test) - y_test) ** 2))\n",
    "\n",
    "stdscaler_r2 = grid.best_score_\n",
    "stdscaler_residual = np.mean((grid.predict(X_test) - y_test) ** 2)\n",
    "stdscaler_squared = mean_squared_error(y_test,grid.predict(X_test))"
   ]
  },
  {
   "cell_type": "code",
   "execution_count": 26,
   "id": "2fdb36e5",
   "metadata": {},
   "outputs": [
    {
     "data": {
      "text/plain": [
       "LinearRegression(fit_intercept=False, normalize=True)"
      ]
     },
     "execution_count": 26,
     "metadata": {},
     "output_type": "execute_result"
    }
   ],
   "source": [
    "grid.best_estimator_"
   ]
  },
  {
   "cell_type": "code",
   "execution_count": 27,
   "id": "6aa6b499",
   "metadata": {},
   "outputs": [
    {
     "data": {
      "image/png": "[encoded data removed]",
      "text/plain": [
       "<Figure size 432x288 with 1 Axes>"
      ]
     },
     "metadata": {},
     "output_type": "display_data"
    }
   ],
   "source": [
    "%matplotlib inline\n",
    "\n",
    "sns.set_context('talk')\n",
    "sns.set_style('ticks')\n",
    "sns.set_palette('dark')\n",
    "\n",
    "ax = plt.axes()\n",
    "\n",
    "ax.scatter(y_test,grid.predict(X_test),alpha=0.5)\n",
    "\n",
    "ax.set(xlabel='Ground Truth',\n",
    "      ylabel = 'Predictions',\n",
    "      title = 'Carbon Monoxide Standard Scaler Predictions vs Ground Truth');"
   ]
  },
  {
   "cell_type": "code",
   "execution_count": 28,
   "id": "de0d0aeb",
   "metadata": {},
   "outputs": [
    {
     "name": "stdout",
     "output_type": "stream",
     "text": [
      "r2 / variance :  0.6888462880627936\n",
      "Residual sum of squares: 0.31\n"
     ]
    }
   ],
   "source": [
    "mabs = MaxAbsScaler()\n",
    "\n",
    "df = pd.DataFrame(std.fit_transform(df),columns = df.columns)\n",
    "\n",
    "y_co2 = 'CO conc (ppm)'\n",
    "feature_cols = [x for x in df.columns if x != y_co2]\n",
    "X_data = df[feature_cols]\n",
    "y_data_co2 = df[y_co2]\n",
    "\n",
    "X_train, X_test, y_train, y_test = train_test_split(X_data, y_data_co2,\n",
    "                                                    test_size=0.3, random_state=42)\n",
    "\n",
    "LR = LinearRegression()\n",
    "parameters = {'fit_intercept':[True,False], 'normalize':[True,False], 'copy_X':[True, False]}\n",
    "grid = GridSearchCV(LR,parameters, cv=3)\n",
    "grid.fit(X_train, y_train)\n",
    "\n",
    "print (\"r2 / variance : \", grid.best_score_)\n",
    "print(\"Residual sum of squares: %.2f\"\n",
    "              % np.mean((grid.predict(X_test) - y_test) ** 2))\n",
    "\n",
    "maxabscaler_r2 = grid.best_score_\n",
    "maxabsscaler_residual = np.mean((grid.predict(X_test) - y_test) ** 2)\n",
    "maxabscaler_squared = mean_squared_error(y_test,grid.predict(X_test))"
   ]
  },
  {
   "cell_type": "code",
   "execution_count": 29,
   "id": "b2bb2693",
   "metadata": {},
   "outputs": [
    {
     "data": {
      "text/plain": [
       "LinearRegression(fit_intercept=False, normalize=True)"
      ]
     },
     "execution_count": 29,
     "metadata": {},
     "output_type": "execute_result"
    }
   ],
   "source": [
    "grid.best_estimator_"
   ]
  },
  {
   "cell_type": "code",
   "execution_count": 30,
   "id": "dbc6ac89",
   "metadata": {},
   "outputs": [
    {
     "data": {
      "image/png": "[encoded data removed]",
      "text/plain": [
       "<Figure size 432x288 with 1 Axes>"
      ]
     },
     "metadata": {},
     "output_type": "display_data"
    }
   ],
   "source": [
    "%matplotlib inline\n",
    "\n",
    "sns.set_context('talk')\n",
    "sns.set_style('ticks')\n",
    "sns.set_palette('dark')\n",
    "\n",
    "ax = plt.axes()\n",
    "\n",
    "ax.scatter(y_test,grid.predict(X_test),alpha=0.5)\n",
    "\n",
    "ax.set(xlabel='Ground Truth',\n",
    "      ylabel = 'Predictions',\n",
    "      title = 'Carbon Monoxide MaxAbs Scaler Predictions vs Ground Truth');"
   ]
  },
  {
   "cell_type": "code",
   "execution_count": 31,
   "id": "ec47925b",
   "metadata": {},
   "outputs": [
    {
     "name": "stdout",
     "output_type": "stream",
     "text": [
      "{'MinMaxScaler - C02': 0.6888462682887285, 'StandardScaler - C02': 0.6888462880627936, 'MaxAbsScaler - C02': 0.6888462880627936}\n",
      "{'MinMaxScaler - C02': 0.02833745120464486, 'StandardScaler - C02': 0.31181982832030336, 'MaxAbsScaler - C02': 0.31181982832030414}\n",
      "{'MinMaxScaler - C02': 0.028337451204644346, 'StandardScaler - C02': 0.31181982832031424, 'MaxAbsScaler - C02': 0.3118198283203149}\n"
     ]
    }
   ],
   "source": [
    "Variance_C02 = {'MinMaxScaler - C02' : minmaxscaler_r2,\n",
    "           'StandardScaler - C02': stdscaler_r2,\n",
    "           'MaxAbsScaler - C02' : maxabscaler_r2}\n",
    "\n",
    "Residual_Sum_of_Squares_C02 = {'MinMaxScaler - C02' :minmaxscaler_residual,\n",
    "           'StandardScaler - C02': stdscaler_residual,\n",
    "           'MaxAbsScaler - C02' : maxabsscaler_residual}\n",
    "Mean_Squared_Error_C02 = {'MinMaxScaler - C02': minmaxscaler_squared,\n",
    "           'StandardScaler - C02': stdscaler_squared,\n",
    "           'MaxAbsScaler - C02' : maxabscaler_squared}\n",
    "\n",
    "print(Variance_C02)\n",
    "\n",
    "print(Residual_Sum_of_Squares_C02)\n",
    "\n",
    "print(Mean_Squared_Error_C02)"
   ]
  },
  {
   "cell_type": "code",
   "execution_count": 32,
   "id": "52eb141d",
   "metadata": {},
   "outputs": [
    {
     "name": "stdout",
     "output_type": "stream",
     "text": [
      "r2 / variance :  0.6470544864072582\n",
      "Residual sum of squares: 0.03\n"
     ]
    }
   ],
   "source": [
    "#MinMax Scaler\n",
    "msc = MinMaxScaler()\n",
    "\n",
    "df = pd.DataFrame(msc.fit_transform(df),columns = df.columns)\n",
    "\n",
    "y_eth = 'Ethylene conc (ppm)'\n",
    "feature_cols = [x for x in df.columns if x != y_eth]\n",
    "X_data = df[feature_cols]\n",
    "y_data_eth = df[y_eth]\n",
    "\n",
    "X_train, X_test, y_train, y_test = train_test_split(X_data, y_data_eth,\n",
    "                                                    test_size=0.3, random_state=42)\n",
    "\n",
    "LR = LinearRegression()\n",
    "parameters = {'fit_intercept':[True,False], 'normalize':[True,False], 'copy_X':[True, False]}\n",
    "grid_eth = GridSearchCV(LR,parameters, cv=3)\n",
    "grid_eth.fit(X_train, y_train)\n",
    "\n",
    "print (\"r2 / variance : \", grid_eth.best_score_)\n",
    "print(\"Residual sum of squares: %.2f\"\n",
    "              % np.mean((grid_eth.predict(X_test) - y_test) ** 2))\n",
    "\n",
    "minmaxscaler_r2_eth = grid_eth.best_score_\n",
    "minmaxscaler_residual_eth = np.mean((grid_eth.predict(X_test) - y_test) ** 2)\n",
    "minmaxscaler_squared_eth = mean_squared_error(y_test,grid_eth.predict(X_test))"
   ]
  },
  {
   "cell_type": "code",
   "execution_count": 33,
   "id": "8ed38462",
   "metadata": {},
   "outputs": [
    {
     "data": {
      "text/plain": [
       "LinearRegression(normalize=True)"
      ]
     },
     "execution_count": 33,
     "metadata": {},
     "output_type": "execute_result"
    }
   ],
   "source": [
    "grid_eth.best_estimator_"
   ]
  },
  {
   "cell_type": "code",
   "execution_count": 34,
   "id": "293f8cb5",
   "metadata": {},
   "outputs": [
    {
     "data": {
      "image/png": "[encoded data removed]",
      "text/plain": [
       "<Figure size 432x288 with 1 Axes>"
      ]
     },
     "metadata": {},
     "output_type": "display_data"
    }
   ],
   "source": [
    "%matplotlib inline\n",
    "\n",
    "sns.set_context('talk')\n",
    "sns.set_style('ticks')\n",
    "sns.set_palette('dark')\n",
    "\n",
    "ax = plt.axes()\n",
    "\n",
    "ax.scatter(y_test,grid.predict(X_test),alpha=0.5)\n",
    "\n",
    "ax.set(xlabel='Ground Truth',\n",
    "      ylabel = 'Predictions',\n",
    "      title = 'Ethylene MinMax Scaler Predictions vs Ground Truth');"
   ]
  },
  {
   "cell_type": "code",
   "execution_count": 35,
   "id": "e17babb8",
   "metadata": {},
   "outputs": [
    {
     "name": "stdout",
     "output_type": "stream",
     "text": [
      "r2 / variance :  0.647054535847171\n",
      "Residual sum of squares: 0.35\n"
     ]
    }
   ],
   "source": [
    "std = StandardScaler()\n",
    "\n",
    "df = pd.DataFrame(std.fit_transform(df),columns = df.columns)\n",
    "\n",
    "y_eth = 'Ethylene conc (ppm)'\n",
    "feature_cols = [x for x in df.columns if x != y_eth]\n",
    "X_data = df[feature_cols]\n",
    "y_data_eth = df[y_eth]\n",
    "\n",
    "X_train, X_test, y_train, y_test = train_test_split(X_data, y_data_eth,\n",
    "                                                    test_size=0.3, random_state=42)\n",
    "\n",
    "LR = LinearRegression()\n",
    "parameters = {'fit_intercept':[True,False], 'normalize':[True,False], 'copy_X':[True, False]}\n",
    "grid_eth = GridSearchCV(LR,parameters, cv=3)\n",
    "grid_eth.fit(X_train, y_train)\n",
    "\n",
    "print (\"r2 / variance : \", grid_eth.best_score_)\n",
    "print(\"Residual sum of squares: %.2f\"\n",
    "              % np.mean((grid_eth.predict(X_test) - y_test) ** 2))\n",
    "\n",
    "stdscaler_r2_eth = grid_eth.best_score_\n",
    "stdscaler_residual_eth = np.mean((grid_eth.predict(X_test) - y_test) ** 2)\n",
    "stdscaler_squared_eth = mean_squared_error(y_test,grid_eth.predict(X_test))"
   ]
  },
  {
   "cell_type": "code",
   "execution_count": 36,
   "id": "fb7efc68",
   "metadata": {},
   "outputs": [
    {
     "data": {
      "text/plain": [
       "LinearRegression(fit_intercept=False, normalize=True)"
      ]
     },
     "execution_count": 36,
     "metadata": {},
     "output_type": "execute_result"
    }
   ],
   "source": [
    "grid_eth.best_estimator_"
   ]
  },
  {
   "cell_type": "code",
   "execution_count": 37,
   "id": "8f122232",
   "metadata": {},
   "outputs": [
    {
     "data": {
      "image/png": "[encoded data removed]",
      "text/plain": [
       "<Figure size 432x288 with 1 Axes>"
      ]
     },
     "metadata": {},
     "output_type": "display_data"
    }
   ],
   "source": [
    "%matplotlib inline\n",
    "\n",
    "sns.set_context('talk')\n",
    "sns.set_style('ticks')\n",
    "sns.set_palette('dark')\n",
    "\n",
    "ax = plt.axes()\n",
    "\n",
    "ax.scatter(y_test,grid.predict(X_test),alpha=0.5)\n",
    "\n",
    "ax.set(xlabel='Ground Truth',\n",
    "      ylabel = 'Predictions',\n",
    "      title = 'Ethylene Standard Scaler Predictions vs Ground Truth');"
   ]
  },
  {
   "cell_type": "code",
   "execution_count": 38,
   "id": "9eea68f8",
   "metadata": {},
   "outputs": [
    {
     "name": "stdout",
     "output_type": "stream",
     "text": [
      "r2 / variance :  0.647054535847171\n",
      "Residual sum of squares: 0.05\n"
     ]
    }
   ],
   "source": [
    "mabs = MaxAbsScaler()\n",
    "\n",
    "df = pd.DataFrame(mabs.fit_transform(df),columns = df.columns)\n",
    "\n",
    "y_eth = 'Ethylene conc (ppm)'\n",
    "feature_cols = [x for x in df.columns if x != y_eth]\n",
    "X_data = df[feature_cols]\n",
    "y_data_eth = df[y_eth]\n",
    "\n",
    "X_train, X_test, y_train, y_test = train_test_split(X_data, y_data_eth,\n",
    "                                                    test_size=0.3, random_state=42)\n",
    "\n",
    "LR = LinearRegression()\n",
    "parameters = {'fit_intercept':[True,False], 'normalize':[True,False], 'copy_X':[True, False]}\n",
    "grid_eth = GridSearchCV(LR,parameters, cv=3)\n",
    "grid_eth.fit(X_train, y_train)\n",
    "\n",
    "print (\"r2 / variance : \", grid_eth.best_score_)\n",
    "print(\"Residual sum of squares: %.2f\"\n",
    "              % np.mean((grid_eth.predict(X_test) - y_test) ** 2))\n",
    "\n",
    "maxabscaler_r2_eth = grid_eth.best_score_\n",
    "maxabscaler_residual_eth = np.mean((grid_eth.predict(X_test) - y_test) ** 2)\n",
    "maxabscaler_squared_eth = mean_squared_error(y_test,grid_eth.predict(X_test))"
   ]
  },
  {
   "cell_type": "code",
   "execution_count": 39,
   "id": "d9d97cda",
   "metadata": {},
   "outputs": [
    {
     "data": {
      "text/plain": [
       "LinearRegression(fit_intercept=False, normalize=True)"
      ]
     },
     "execution_count": 39,
     "metadata": {},
     "output_type": "execute_result"
    }
   ],
   "source": [
    "grid_eth.best_estimator_"
   ]
  },
  {
   "cell_type": "code",
   "execution_count": 40,
   "id": "8cc84acc",
   "metadata": {},
   "outputs": [
    {
     "data": {
      "image/png": "[encoded data removed]",
      "text/plain": [
       "<Figure size 432x288 with 1 Axes>"
      ]
     },
     "metadata": {},
     "output_type": "display_data"
    }
   ],
   "source": [
    "%matplotlib inline\n",
    "\n",
    "sns.set_context('talk')\n",
    "sns.set_style('ticks')\n",
    "sns.set_palette('dark')\n",
    "\n",
    "ax = plt.axes()\n",
    "\n",
    "ax.scatter(y_test,grid.predict(X_test),alpha=0.5)\n",
    "\n",
    "ax.set(xlabel='Ground Truth',\n",
    "      ylabel = 'Predictions',\n",
    "      title = 'Ethylene MaxAbs Scaler Predictions vs Ground Truth');"
   ]
  },
  {
   "cell_type": "code",
   "execution_count": 41,
   "id": "a9e4a7e3",
   "metadata": {},
   "outputs": [
    {
     "name": "stdout",
     "output_type": "stream",
     "text": [
      "{'MinMaxScaler - Ethylene': 0.6470544864072582, 'StandardScaler - Ethylene': 0.647054535847171, 'MaxAbsScaler - Ethylene': 0.647054535847171}\n",
      "{'MinMaxScaler - Ethylene': 0.02786915339581456, 'StandardScaler - Ethylene': 0.3524305362157047, 'MaxAbsScaler - Ethylene': 0.051731783794027014}\n",
      "{'MinMaxScaler - Ethylene': 0.0278691533958143, 'StandardScaler - Ethylene': 0.3524305362156788, 'MaxAbsScaler - Ethylene': 0.051731783794027854}\n"
     ]
    }
   ],
   "source": [
    "Variance_Eth = {'MinMaxScaler - Ethylene' : minmaxscaler_r2_eth,\n",
    "           'StandardScaler - Ethylene': stdscaler_r2_eth,\n",
    "           'MaxAbsScaler - Ethylene' : maxabscaler_r2_eth}\n",
    "\n",
    "Residual_Sum_of_Squares_Eth = {'MinMaxScaler - Ethylene' :minmaxscaler_residual_eth,\n",
    "           'StandardScaler - Ethylene': stdscaler_residual_eth,\n",
    "           'MaxAbsScaler - Ethylene' : maxabscaler_residual_eth}\n",
    "Mean_Squared_Error_Eth = {'MinMaxScaler - Ethylene': minmaxscaler_squared_eth,\n",
    "           'StandardScaler - Ethylene': stdscaler_squared_eth,\n",
    "           'MaxAbsScaler - Ethylene' : maxabscaler_squared_eth}\n",
    "\n",
    "print(Variance_Eth)\n",
    "\n",
    "print(Residual_Sum_of_Squares_Eth)\n",
    "\n",
    "print(Mean_Squared_Error_Eth)"
   ]
  },
  {
   "cell_type": "code",
   "execution_count": null,
   "id": "79c5eb54",
   "metadata": {},
   "outputs": [],
   "source": []
  }
 ],
 "metadata": {
  "kernelspec": {
   "display_name": "Python 3",
   "language": "python",
   "name": "python3"
  },
  "language_info": {
   "codemirror_mode": {
    "name": "ipython",
    "version": 3
   },
   "file_extension": ".py",
   "mimetype": "text/x-python",
   "name": "python",
   "nbconvert_exporter": "python",
   "pygments_lexer": "ipython3",
   "version": "3.8.8"
  }
 },
 "nbformat": 4,
 "nbformat_minor": 5
}
