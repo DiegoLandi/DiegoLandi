{
 "cells": [
  {
   "cell_type": "code",
   "execution_count": 1,
   "id": "17969d06",
   "metadata": {},
   "outputs": [],
   "source": [
    "import math\n",
    "import seaborn as sns\n",
    "sns.set(style=\"whitegrid\", color_codes=True)\n",
    "from __future__ import print_function\n",
    "import os\n",
    "import pandas as pd # data processing, CSV file I/O (e.g. pd.read_csv)\n",
    "import numpy as np # linear algebra\n",
    "import matplotlib \n",
    "import matplotlib.pyplot as plt\n",
    "from sklearn.linear_model import LinearRegression\n",
    "from sklearn.metrics import mean_squared_error\n",
    "from sklearn.model_selection import train_test_split\n",
    "from sklearn.model_selection import GridSearchCV\n",
    "from sklearn.ensemble import RandomForestRegressor\n",
    "import warnings\n",
    "from sklearn.preprocessing import StandardScaler,MinMaxScaler,MaxAbsScaler\n",
    "from sklearn.svm import SVR\n",
    "from sklearn.neighbors import KNeighborsRegressor\n",
    "warnings.filterwarnings('ignore',module = 'sklearn')\n",
    "\n",
    "dg = pd.read_csv('Desktop/ethylene_methane.txt', delim_whitespace=True, skiprows=[0], header=None)\n",
    "dg = dg.rename(columns = {0:'Time (seconds)', 1:'Methane conc (ppm)', 2:'Ethylene conc (ppm)', 3:'Sensor1',4:'Sensor2',5:'Sensor3',6:'Sensor4',7:'Sensor5',8:'Sensor6',9:'Sensor7',10:'Sensor8',11:'Sensor9',12:'Sensor10',13:'Sensor11',14:'Sensor12',15:'Sensor13',16:'Sensor14',17:'Sensor15',18:'Sensor16'})\n"
   ]
  },
  {
   "cell_type": "code",
   "execution_count": 22,
   "id": "dccdbc5e",
   "metadata": {},
   "outputs": [
    {
     "data": {
      "text/html": [
       "<div>\n",
       "<style scoped>\n",
       "    .dataframe tbody tr th:only-of-type {\n",
       "        vertical-align: middle;\n",
       "    }\n",
       "\n",
       "    .dataframe tbody tr th {\n",
       "        vertical-align: top;\n",
       "    }\n",
       "\n",
       "    .dataframe thead th {\n",
       "        text-align: right;\n",
       "    }\n",
       "</style>\n",
       "<table border=\"1\" class=\"dataframe\">\n",
       "  <thead>\n",
       "    <tr style=\"text-align: right;\">\n",
       "      <th></th>\n",
       "      <th>Time (seconds)</th>\n",
       "      <th>Methane conc (ppm)</th>\n",
       "      <th>Ethylene conc (ppm)</th>\n",
       "      <th>Sensor1</th>\n",
       "      <th>Sensor2</th>\n",
       "      <th>Sensor3</th>\n",
       "      <th>Sensor4</th>\n",
       "      <th>Sensor5</th>\n",
       "      <th>Sensor6</th>\n",
       "      <th>Sensor7</th>\n",
       "      <th>Sensor8</th>\n",
       "      <th>Sensor9</th>\n",
       "      <th>Sensor10</th>\n",
       "      <th>Sensor11</th>\n",
       "      <th>Sensor12</th>\n",
       "      <th>Sensor13</th>\n",
       "      <th>Sensor14</th>\n",
       "      <th>Sensor15</th>\n",
       "      <th>Sensor16</th>\n",
       "    </tr>\n",
       "  </thead>\n",
       "  <tbody>\n",
       "    <tr>\n",
       "      <th>0</th>\n",
       "      <td>-1.000000</td>\n",
       "      <td>-0.243456</td>\n",
       "      <td>-0.279548</td>\n",
       "      <td>-0.994373</td>\n",
       "      <td>0.043897</td>\n",
       "      <td>-0.993910</td>\n",
       "      <td>-0.981155</td>\n",
       "      <td>-0.725149</td>\n",
       "      <td>-0.726529</td>\n",
       "      <td>-0.997479</td>\n",
       "      <td>-0.996142</td>\n",
       "      <td>-0.116333</td>\n",
       "      <td>-0.137603</td>\n",
       "      <td>0.687683</td>\n",
       "      <td>0.973408</td>\n",
       "      <td>0.978023</td>\n",
       "      <td>0.984303</td>\n",
       "      <td>0.556223</td>\n",
       "      <td>0.665568</td>\n",
       "    </tr>\n",
       "    <tr>\n",
       "      <th>1</th>\n",
       "      <td>-1.000000</td>\n",
       "      <td>-0.243456</td>\n",
       "      <td>-0.279548</td>\n",
       "      <td>-0.996127</td>\n",
       "      <td>0.043926</td>\n",
       "      <td>-0.990861</td>\n",
       "      <td>-0.977465</td>\n",
       "      <td>-0.733352</td>\n",
       "      <td>-0.726285</td>\n",
       "      <td>-0.996215</td>\n",
       "      <td>-0.997716</td>\n",
       "      <td>-0.122246</td>\n",
       "      <td>-0.128501</td>\n",
       "      <td>0.681636</td>\n",
       "      <td>0.979057</td>\n",
       "      <td>0.984489</td>\n",
       "      <td>0.982738</td>\n",
       "      <td>0.555336</td>\n",
       "      <td>0.658489</td>\n",
       "    </tr>\n",
       "    <tr>\n",
       "      <th>2</th>\n",
       "      <td>-0.999999</td>\n",
       "      <td>-0.243456</td>\n",
       "      <td>-0.279548</td>\n",
       "      <td>-0.992114</td>\n",
       "      <td>0.042439</td>\n",
       "      <td>-0.984575</td>\n",
       "      <td>-0.979102</td>\n",
       "      <td>-0.729669</td>\n",
       "      <td>-0.727649</td>\n",
       "      <td>-0.997778</td>\n",
       "      <td>-0.996740</td>\n",
       "      <td>-0.115349</td>\n",
       "      <td>-0.149350</td>\n",
       "      <td>0.678615</td>\n",
       "      <td>0.982041</td>\n",
       "      <td>0.981973</td>\n",
       "      <td>0.984415</td>\n",
       "      <td>0.557361</td>\n",
       "      <td>0.653340</td>\n",
       "    </tr>\n",
       "    <tr>\n",
       "      <th>3</th>\n",
       "      <td>-0.999999</td>\n",
       "      <td>-0.243456</td>\n",
       "      <td>-0.279548</td>\n",
       "      <td>-0.997625</td>\n",
       "      <td>0.042176</td>\n",
       "      <td>-0.992071</td>\n",
       "      <td>-0.982103</td>\n",
       "      <td>-0.731765</td>\n",
       "      <td>-0.725018</td>\n",
       "      <td>-0.991402</td>\n",
       "      <td>-0.995269</td>\n",
       "      <td>-0.125521</td>\n",
       "      <td>-0.148588</td>\n",
       "      <td>0.682264</td>\n",
       "      <td>0.969963</td>\n",
       "      <td>0.980536</td>\n",
       "      <td>0.982068</td>\n",
       "      <td>0.557741</td>\n",
       "      <td>0.663648</td>\n",
       "    </tr>\n",
       "    <tr>\n",
       "      <th>4</th>\n",
       "      <td>-0.999998</td>\n",
       "      <td>-0.243456</td>\n",
       "      <td>-0.279548</td>\n",
       "      <td>-0.992556</td>\n",
       "      <td>0.045564</td>\n",
       "      <td>-0.993565</td>\n",
       "      <td>-0.980838</td>\n",
       "      <td>-0.726549</td>\n",
       "      <td>-0.726385</td>\n",
       "      <td>-0.997117</td>\n",
       "      <td>-0.996249</td>\n",
       "      <td>-0.117317</td>\n",
       "      <td>-0.149724</td>\n",
       "      <td>0.678112</td>\n",
       "      <td>0.973094</td>\n",
       "      <td>0.985330</td>\n",
       "      <td>0.984415</td>\n",
       "      <td>0.570951</td>\n",
       "      <td>0.675614</td>\n",
       "    </tr>\n",
       "  </tbody>\n",
       "</table>\n",
       "</div>"
      ],
      "text/plain": [
       "   Time (seconds)  Methane conc (ppm)  Ethylene conc (ppm)   Sensor1  \\\n",
       "0       -1.000000           -0.243456            -0.279548 -0.994373   \n",
       "1       -1.000000           -0.243456            -0.279548 -0.996127   \n",
       "2       -0.999999           -0.243456            -0.279548 -0.992114   \n",
       "3       -0.999999           -0.243456            -0.279548 -0.997625   \n",
       "4       -0.999998           -0.243456            -0.279548 -0.992556   \n",
       "\n",
       "    Sensor2   Sensor3   Sensor4   Sensor5   Sensor6   Sensor7   Sensor8  \\\n",
       "0  0.043897 -0.993910 -0.981155 -0.725149 -0.726529 -0.997479 -0.996142   \n",
       "1  0.043926 -0.990861 -0.977465 -0.733352 -0.726285 -0.996215 -0.997716   \n",
       "2  0.042439 -0.984575 -0.979102 -0.729669 -0.727649 -0.997778 -0.996740   \n",
       "3  0.042176 -0.992071 -0.982103 -0.731765 -0.725018 -0.991402 -0.995269   \n",
       "4  0.045564 -0.993565 -0.980838 -0.726549 -0.726385 -0.997117 -0.996249   \n",
       "\n",
       "    Sensor9  Sensor10  Sensor11  Sensor12  Sensor13  Sensor14  Sensor15  \\\n",
       "0 -0.116333 -0.137603  0.687683  0.973408  0.978023  0.984303  0.556223   \n",
       "1 -0.122246 -0.128501  0.681636  0.979057  0.984489  0.982738  0.555336   \n",
       "2 -0.115349 -0.149350  0.678615  0.982041  0.981973  0.984415  0.557361   \n",
       "3 -0.125521 -0.148588  0.682264  0.969963  0.980536  0.982068  0.557741   \n",
       "4 -0.117317 -0.149724  0.678112  0.973094  0.985330  0.984415  0.570951   \n",
       "\n",
       "   Sensor16  \n",
       "0  0.665568  \n",
       "1  0.658489  \n",
       "2  0.653340  \n",
       "3  0.663648  \n",
       "4  0.675614  "
      ]
     },
     "execution_count": 22,
     "metadata": {},
     "output_type": "execute_result"
    }
   ],
   "source": [
    "dg.head()"
   ]
  },
  {
   "cell_type": "code",
   "execution_count": 23,
   "id": "4161580f",
   "metadata": {},
   "outputs": [
    {
     "data": {
      "text/html": [
       "<div>\n",
       "<style scoped>\n",
       "    .dataframe tbody tr th:only-of-type {\n",
       "        vertical-align: middle;\n",
       "    }\n",
       "\n",
       "    .dataframe tbody tr th {\n",
       "        vertical-align: top;\n",
       "    }\n",
       "\n",
       "    .dataframe thead th {\n",
       "        text-align: right;\n",
       "    }\n",
       "</style>\n",
       "<table border=\"1\" class=\"dataframe\">\n",
       "  <thead>\n",
       "    <tr style=\"text-align: right;\">\n",
       "      <th></th>\n",
       "      <th>count</th>\n",
       "      <th>mean</th>\n",
       "      <th>std</th>\n",
       "      <th>min</th>\n",
       "      <th>25%</th>\n",
       "      <th>50%</th>\n",
       "      <th>75%</th>\n",
       "      <th>max</th>\n",
       "    </tr>\n",
       "  </thead>\n",
       "  <tbody>\n",
       "    <tr>\n",
       "      <th>Time (seconds)</th>\n",
       "      <td>4178504.0</td>\n",
       "      <td>2.792908e-16</td>\n",
       "      <td>0.577347</td>\n",
       "      <td>-1.000000</td>\n",
       "      <td>-0.500053</td>\n",
       "      <td>0.000051</td>\n",
       "      <td>0.499988</td>\n",
       "      <td>0.999946</td>\n",
       "    </tr>\n",
       "    <tr>\n",
       "      <th>Methane conc (ppm)</th>\n",
       "      <td>4178504.0</td>\n",
       "      <td>1.387290e-12</td>\n",
       "      <td>0.321225</td>\n",
       "      <td>-0.243456</td>\n",
       "      <td>-0.243456</td>\n",
       "      <td>-0.243456</td>\n",
       "      <td>0.175682</td>\n",
       "      <td>1.000000</td>\n",
       "    </tr>\n",
       "    <tr>\n",
       "      <th>Ethylene conc (ppm)</th>\n",
       "      <td>4178504.0</td>\n",
       "      <td>3.510673e-13</td>\n",
       "      <td>0.353238</td>\n",
       "      <td>-0.279548</td>\n",
       "      <td>-0.279548</td>\n",
       "      <td>-0.279548</td>\n",
       "      <td>0.253384</td>\n",
       "      <td>1.000000</td>\n",
       "    </tr>\n",
       "    <tr>\n",
       "      <th>Sensor1</th>\n",
       "      <td>4178504.0</td>\n",
       "      <td>-7.116452e-16</td>\n",
       "      <td>0.098269</td>\n",
       "      <td>-1.000000</td>\n",
       "      <td>-0.071813</td>\n",
       "      <td>-0.021992</td>\n",
       "      <td>0.060844</td>\n",
       "      <td>0.342463</td>\n",
       "    </tr>\n",
       "    <tr>\n",
       "      <th>Sensor2</th>\n",
       "      <td>4178504.0</td>\n",
       "      <td>-1.277342e-14</td>\n",
       "      <td>0.014601</td>\n",
       "      <td>-0.017570</td>\n",
       "      <td>-0.008927</td>\n",
       "      <td>-0.001251</td>\n",
       "      <td>0.005315</td>\n",
       "      <td>1.000000</td>\n",
       "    </tr>\n",
       "    <tr>\n",
       "      <th>Sensor3</th>\n",
       "      <td>4178504.0</td>\n",
       "      <td>-1.554358e-14</td>\n",
       "      <td>0.409306</td>\n",
       "      <td>-0.997699</td>\n",
       "      <td>-0.418126</td>\n",
       "      <td>0.045909</td>\n",
       "      <td>0.370847</td>\n",
       "      <td>1.000000</td>\n",
       "    </tr>\n",
       "    <tr>\n",
       "      <th>Sensor4</th>\n",
       "      <td>4178504.0</td>\n",
       "      <td>3.795961e-15</td>\n",
       "      <td>0.404965</td>\n",
       "      <td>-0.984102</td>\n",
       "      <td>-0.415640</td>\n",
       "      <td>0.053044</td>\n",
       "      <td>0.367479</td>\n",
       "      <td>1.000000</td>\n",
       "    </tr>\n",
       "    <tr>\n",
       "      <th>Sensor5</th>\n",
       "      <td>4178504.0</td>\n",
       "      <td>-2.127945e-14</td>\n",
       "      <td>0.432035</td>\n",
       "      <td>-0.733481</td>\n",
       "      <td>-0.408002</td>\n",
       "      <td>-0.183798</td>\n",
       "      <td>0.371480</td>\n",
       "      <td>1.000000</td>\n",
       "    </tr>\n",
       "    <tr>\n",
       "      <th>Sensor6</th>\n",
       "      <td>4178504.0</td>\n",
       "      <td>-4.541389e-14</td>\n",
       "      <td>0.429089</td>\n",
       "      <td>-0.731154</td>\n",
       "      <td>-0.398901</td>\n",
       "      <td>-0.210014</td>\n",
       "      <td>0.367015</td>\n",
       "      <td>1.000000</td>\n",
       "    </tr>\n",
       "    <tr>\n",
       "      <th>Sensor7</th>\n",
       "      <td>4178504.0</td>\n",
       "      <td>-4.842293e-15</td>\n",
       "      <td>0.407653</td>\n",
       "      <td>-1.000000</td>\n",
       "      <td>-0.427568</td>\n",
       "      <td>0.035379</td>\n",
       "      <td>0.340374</td>\n",
       "      <td>0.966373</td>\n",
       "    </tr>\n",
       "    <tr>\n",
       "      <th>Sensor8</th>\n",
       "      <td>4178504.0</td>\n",
       "      <td>6.914923e-15</td>\n",
       "      <td>0.411164</td>\n",
       "      <td>-1.000000</td>\n",
       "      <td>-0.440855</td>\n",
       "      <td>0.052624</td>\n",
       "      <td>0.369148</td>\n",
       "      <td>0.950039</td>\n",
       "    </tr>\n",
       "    <tr>\n",
       "      <th>Sensor9</th>\n",
       "      <td>4178504.0</td>\n",
       "      <td>1.797850e-13</td>\n",
       "      <td>0.291413</td>\n",
       "      <td>-0.631856</td>\n",
       "      <td>-0.220399</td>\n",
       "      <td>-0.067553</td>\n",
       "      <td>0.186297</td>\n",
       "      <td>1.000000</td>\n",
       "    </tr>\n",
       "    <tr>\n",
       "      <th>Sensor10</th>\n",
       "      <td>4178504.0</td>\n",
       "      <td>-1.208978e-13</td>\n",
       "      <td>0.287984</td>\n",
       "      <td>-0.655922</td>\n",
       "      <td>-0.217258</td>\n",
       "      <td>-0.058782</td>\n",
       "      <td>0.172377</td>\n",
       "      <td>1.000000</td>\n",
       "    </tr>\n",
       "    <tr>\n",
       "      <th>Sensor11</th>\n",
       "      <td>4178504.0</td>\n",
       "      <td>-2.741039e-15</td>\n",
       "      <td>0.387524</td>\n",
       "      <td>-0.632469</td>\n",
       "      <td>-0.350003</td>\n",
       "      <td>-0.049864</td>\n",
       "      <td>0.329333</td>\n",
       "      <td>1.000000</td>\n",
       "    </tr>\n",
       "    <tr>\n",
       "      <th>Sensor12</th>\n",
       "      <td>4178504.0</td>\n",
       "      <td>5.165990e-15</td>\n",
       "      <td>0.404734</td>\n",
       "      <td>-0.708143</td>\n",
       "      <td>-0.403907</td>\n",
       "      <td>0.023335</td>\n",
       "      <td>0.332253</td>\n",
       "      <td>1.000000</td>\n",
       "    </tr>\n",
       "    <tr>\n",
       "      <th>Sensor13</th>\n",
       "      <td>4178504.0</td>\n",
       "      <td>-2.098361e-14</td>\n",
       "      <td>0.345738</td>\n",
       "      <td>-0.436024</td>\n",
       "      <td>-0.325276</td>\n",
       "      <td>-0.147511</td>\n",
       "      <td>0.299945</td>\n",
       "      <td>1.000000</td>\n",
       "    </tr>\n",
       "    <tr>\n",
       "      <th>Sensor14</th>\n",
       "      <td>4178504.0</td>\n",
       "      <td>-2.665707e-14</td>\n",
       "      <td>0.333798</td>\n",
       "      <td>-0.418556</td>\n",
       "      <td>-0.314218</td>\n",
       "      <td>-0.143410</td>\n",
       "      <td>0.284572</td>\n",
       "      <td>1.000000</td>\n",
       "    </tr>\n",
       "    <tr>\n",
       "      <th>Sensor15</th>\n",
       "      <td>4178504.0</td>\n",
       "      <td>-1.209718e-14</td>\n",
       "      <td>0.403775</td>\n",
       "      <td>-0.643366</td>\n",
       "      <td>-0.370327</td>\n",
       "      <td>-0.060250</td>\n",
       "      <td>0.340521</td>\n",
       "      <td>1.000000</td>\n",
       "    </tr>\n",
       "    <tr>\n",
       "      <th>Sensor16</th>\n",
       "      <td>4178504.0</td>\n",
       "      <td>2.993457e-15</td>\n",
       "      <td>0.402764</td>\n",
       "      <td>-0.669992</td>\n",
       "      <td>-0.394176</td>\n",
       "      <td>-0.012226</td>\n",
       "      <td>0.338368</td>\n",
       "      <td>1.000000</td>\n",
       "    </tr>\n",
       "  </tbody>\n",
       "</table>\n",
       "</div>"
      ],
      "text/plain": [
       "                         count          mean       std       min       25%  \\\n",
       "Time (seconds)       4178504.0  2.792908e-16  0.577347 -1.000000 -0.500053   \n",
       "Methane conc (ppm)   4178504.0  1.387290e-12  0.321225 -0.243456 -0.243456   \n",
       "Ethylene conc (ppm)  4178504.0  3.510673e-13  0.353238 -0.279548 -0.279548   \n",
       "Sensor1              4178504.0 -7.116452e-16  0.098269 -1.000000 -0.071813   \n",
       "Sensor2              4178504.0 -1.277342e-14  0.014601 -0.017570 -0.008927   \n",
       "Sensor3              4178504.0 -1.554358e-14  0.409306 -0.997699 -0.418126   \n",
       "Sensor4              4178504.0  3.795961e-15  0.404965 -0.984102 -0.415640   \n",
       "Sensor5              4178504.0 -2.127945e-14  0.432035 -0.733481 -0.408002   \n",
       "Sensor6              4178504.0 -4.541389e-14  0.429089 -0.731154 -0.398901   \n",
       "Sensor7              4178504.0 -4.842293e-15  0.407653 -1.000000 -0.427568   \n",
       "Sensor8              4178504.0  6.914923e-15  0.411164 -1.000000 -0.440855   \n",
       "Sensor9              4178504.0  1.797850e-13  0.291413 -0.631856 -0.220399   \n",
       "Sensor10             4178504.0 -1.208978e-13  0.287984 -0.655922 -0.217258   \n",
       "Sensor11             4178504.0 -2.741039e-15  0.387524 -0.632469 -0.350003   \n",
       "Sensor12             4178504.0  5.165990e-15  0.404734 -0.708143 -0.403907   \n",
       "Sensor13             4178504.0 -2.098361e-14  0.345738 -0.436024 -0.325276   \n",
       "Sensor14             4178504.0 -2.665707e-14  0.333798 -0.418556 -0.314218   \n",
       "Sensor15             4178504.0 -1.209718e-14  0.403775 -0.643366 -0.370327   \n",
       "Sensor16             4178504.0  2.993457e-15  0.402764 -0.669992 -0.394176   \n",
       "\n",
       "                          50%       75%       max  \n",
       "Time (seconds)       0.000051  0.499988  0.999946  \n",
       "Methane conc (ppm)  -0.243456  0.175682  1.000000  \n",
       "Ethylene conc (ppm) -0.279548  0.253384  1.000000  \n",
       "Sensor1             -0.021992  0.060844  0.342463  \n",
       "Sensor2             -0.001251  0.005315  1.000000  \n",
       "Sensor3              0.045909  0.370847  1.000000  \n",
       "Sensor4              0.053044  0.367479  1.000000  \n",
       "Sensor5             -0.183798  0.371480  1.000000  \n",
       "Sensor6             -0.210014  0.367015  1.000000  \n",
       "Sensor7              0.035379  0.340374  0.966373  \n",
       "Sensor8              0.052624  0.369148  0.950039  \n",
       "Sensor9             -0.067553  0.186297  1.000000  \n",
       "Sensor10            -0.058782  0.172377  1.000000  \n",
       "Sensor11            -0.049864  0.329333  1.000000  \n",
       "Sensor12             0.023335  0.332253  1.000000  \n",
       "Sensor13            -0.147511  0.299945  1.000000  \n",
       "Sensor14            -0.143410  0.284572  1.000000  \n",
       "Sensor15            -0.060250  0.340521  1.000000  \n",
       "Sensor16            -0.012226  0.338368  1.000000  "
      ]
     },
     "execution_count": 23,
     "metadata": {},
     "output_type": "execute_result"
    }
   ],
   "source": [
    "dg.describe().T"
   ]
  },
  {
   "cell_type": "code",
   "execution_count": 2,
   "id": "33741023",
   "metadata": {},
   "outputs": [
    {
     "name": "stdout",
     "output_type": "stream",
     "text": [
      "r2 / variance :  0.6846052299541913\n",
      "Residual sum of squares: 0.02\n"
     ]
    }
   ],
   "source": [
    "#Linear Regression\n",
    "#Using MinMax for modeling Methane Concentrations\n",
    "msc = MinMaxScaler()\n",
    "\n",
    "dg = pd.DataFrame(msc.fit_transform(dg),columns = dg.columns)\n",
    "\n",
    "y_meth = 'Methane conc (ppm)'\n",
    "feature_cols = [x for x in dg.columns if x != y_meth]\n",
    "X_data = dg[feature_cols]\n",
    "y_data_meth = dg[y_meth]\n",
    "\n",
    "X_train, X_test, y_train, y_test = train_test_split(X_data, y_data_meth,\n",
    "                                                    test_size=0.3, random_state=42)\n",
    "\n",
    "LR = LinearRegression()\n",
    "parameters = {'fit_intercept':[True,False], 'normalize':[True,False], 'copy_X':[True, False]}\n",
    "grid_meth = GridSearchCV(LR,parameters, cv=3)\n",
    "grid_meth.fit(X_train, y_train)\n",
    "\n",
    "print (\"r2 / variance : \", grid_meth.best_score_)\n",
    "print(\"Residual sum of squares: %.2f\"\n",
    "              % np.mean((grid_meth.predict(X_test) - y_test) ** 2))\n",
    "\n",
    "minmaxscaler_r2_LR = grid_meth.best_score_\n",
    "minmaxscaler_residual_LR = np.mean((grid_meth.predict(X_test) - y_test) ** 2)\n",
    "minmaxscaler_squared_LR = mean_squared_error(y_test,grid_meth.predict(X_test))"
   ]
  },
  {
   "cell_type": "code",
   "execution_count": 3,
   "id": "af7a8c07",
   "metadata": {},
   "outputs": [
    {
     "data": {
      "text/plain": [
       "LinearRegression()"
      ]
     },
     "execution_count": 3,
     "metadata": {},
     "output_type": "execute_result"
    }
   ],
   "source": [
    "grid_meth.best_estimator_"
   ]
  },
  {
   "cell_type": "code",
   "execution_count": 4,
   "id": "e73d64bc",
   "metadata": {},
   "outputs": [
    {
     "data": {
      "image/png": "[encoded data removed]",
      "text/plain": [
       "<Figure size 432x288 with 1 Axes>"
      ]
     },
     "metadata": {},
     "output_type": "display_data"
    }
   ],
   "source": [
    "%matplotlib inline\n",
    "\n",
    "sns.set_context('talk')\n",
    "sns.set_style('ticks')\n",
    "sns.set_palette('dark')\n",
    "\n",
    "ax = plt.axes()\n",
    "\n",
    "ax.scatter(y_test,grid_meth.predict(X_test),alpha=0.5)\n",
    "\n",
    "ax.set(xlabel='Ground Truth',\n",
    "      ylabel = 'Predictions',\n",
    "      title = 'Methane MinMax Scaler Predictions vs Ground Truth');"
   ]
  },
  {
   "cell_type": "code",
   "execution_count": 5,
   "id": "a3830de0",
   "metadata": {},
   "outputs": [
    {
     "name": "stdout",
     "output_type": "stream",
     "text": [
      "r2 / variance :  0.6846052764508329\n",
      "Residual sum of squares: 0.31\n"
     ]
    }
   ],
   "source": [
    "#Using Standard Scaler\n",
    "std = StandardScaler()\n",
    "\n",
    "dg = pd.DataFrame(std.fit_transform(dg),columns = dg.columns)\n",
    "\n",
    "y_meth = 'Methane conc (ppm)'\n",
    "feature_cols = [x for x in dg.columns if x != y_meth]\n",
    "X_data = dg[feature_cols]\n",
    "y_data_meth = dg[y_meth]\n",
    "\n",
    "X_train, X_test, y_train, y_test = train_test_split(X_data, y_data_meth,\n",
    "                                                    test_size=0.3, random_state=42)\n",
    "\n",
    "LR = LinearRegression()\n",
    "parameters = {'fit_intercept':[True,False], 'normalize':[True,False], 'copy_X':[True, False]}\n",
    "grid_meth = GridSearchCV(LR,parameters, cv=3)\n",
    "grid_meth.fit(X_train, y_train)\n",
    "\n",
    "print (\"r2 / variance : \", grid_meth.best_score_)\n",
    "print(\"Residual sum of squares: %.2f\"\n",
    "              % np.mean((grid_meth.predict(X_test) - y_test) ** 2))\n",
    "\n",
    "stdscaler_r2_LR = grid_meth.best_score_\n",
    "stdxscaler_residual_LR = np.mean((grid_meth.predict(X_test) - y_test) ** 2)\n",
    "stdscaler_squared_LR = mean_squared_error(y_test,grid_meth.predict(X_test))"
   ]
  },
  {
   "cell_type": "code",
   "execution_count": 6,
   "id": "a7ba67b8",
   "metadata": {},
   "outputs": [
    {
     "data": {
      "text/plain": [
       "LinearRegression(fit_intercept=False, normalize=True)"
      ]
     },
     "execution_count": 6,
     "metadata": {},
     "output_type": "execute_result"
    }
   ],
   "source": [
    "grid_meth.best_estimator_"
   ]
  },
  {
   "cell_type": "code",
   "execution_count": 7,
   "id": "d5c18c40",
   "metadata": {},
   "outputs": [
    {
     "data": {
      "image/png": "[encoded data removed]",
      "text/plain": [
       "<Figure size 432x288 with 1 Axes>"
      ]
     },
     "metadata": {},
     "output_type": "display_data"
    }
   ],
   "source": [
    "%matplotlib inline\n",
    "\n",
    "sns.set_context('talk')\n",
    "sns.set_style('ticks')\n",
    "sns.set_palette('dark')\n",
    "\n",
    "ax = plt.axes()\n",
    "\n",
    "ax.scatter(y_test,grid_meth.predict(X_test),alpha=0.5)\n",
    "\n",
    "ax.set(xlabel='Ground Truth',\n",
    "      ylabel = 'Predictions',\n",
    "      title = 'Methane Standard Scaler Predictions vs Ground Truth');"
   ]
  },
  {
   "cell_type": "code",
   "execution_count": 8,
   "id": "ab2ca082",
   "metadata": {},
   "outputs": [
    {
     "name": "stdout",
     "output_type": "stream",
     "text": [
      "r2 / variance :  0.6846052299541915\n",
      "Residual sum of squares: 0.02\n"
     ]
    }
   ],
   "source": [
    "#Using MaxAbs Scaler\n",
    "mabs = MaxAbsScaler()\n",
    "\n",
    "dg = pd.DataFrame(msc.fit_transform(dg),columns = dg.columns)\n",
    "\n",
    "y_meth = 'Methane conc (ppm)'\n",
    "feature_cols = [x for x in dg.columns if x != y_meth]\n",
    "X_data = dg[feature_cols]\n",
    "y_data_meth = dg[y_meth]\n",
    "\n",
    "X_train, X_test, y_train, y_test = train_test_split(X_data, y_data_meth,\n",
    "                                                    test_size=0.3, random_state=42)\n",
    "\n",
    "LR = LinearRegression()\n",
    "parameters = {'fit_intercept':[True,False], 'normalize':[True,False], 'copy_X':[True, False]}\n",
    "grid_meth = GridSearchCV(LR,parameters, cv=3)\n",
    "grid_meth.fit(X_train, y_train)\n",
    "\n",
    "print (\"r2 / variance : \", grid_meth.best_score_)\n",
    "print(\"Residual sum of squares: %.2f\"\n",
    "              % np.mean((grid_meth.predict(X_test) - y_test) ** 2))\n",
    "\n",
    "maxabscaler_r2_LR = grid_meth.best_score_\n",
    "maxabscaler_residual_LR = np.mean((grid_meth.predict(X_test) - y_test) ** 2)\n",
    "maxabscaler_squared_LR = mean_squared_error(y_test,grid_meth.predict(X_test))"
   ]
  },
  {
   "cell_type": "code",
   "execution_count": 9,
   "id": "eebc8b85",
   "metadata": {},
   "outputs": [
    {
     "data": {
      "text/plain": [
       "LinearRegression()"
      ]
     },
     "execution_count": 9,
     "metadata": {},
     "output_type": "execute_result"
    }
   ],
   "source": [
    "grid_meth.best_estimator_"
   ]
  },
  {
   "cell_type": "code",
   "execution_count": 10,
   "id": "b7050931",
   "metadata": {},
   "outputs": [
    {
     "data": {
      "image/png": "[encoded data removed]",
      "text/plain": [
       "<Figure size 432x288 with 1 Axes>"
      ]
     },
     "metadata": {},
     "output_type": "display_data"
    }
   ],
   "source": [
    "%matplotlib inline\n",
    "\n",
    "sns.set_context('talk')\n",
    "sns.set_style('ticks')\n",
    "sns.set_palette('dark')\n",
    "\n",
    "ax = plt.axes()\n",
    "\n",
    "ax.scatter(y_test,grid_meth.predict(X_test),alpha=0.5)\n",
    "\n",
    "ax.set(xlabel='Ground Truth',\n",
    "      ylabel = 'Predictions',\n",
    "      title = 'Methane MaxAbs Scaler Predictions vs Ground Truth');"
   ]
  },
  {
   "cell_type": "code",
   "execution_count": 11,
   "id": "1efc1335",
   "metadata": {},
   "outputs": [
    {
     "name": "stdout",
     "output_type": "stream",
     "text": [
      "{'MinMaxScaler - Methane': 0.6846052299541913, 'StandardScaler -Methane': 0.6846052764508329, 'MaxAbsScaler - Methane': 0.6846052299541915}\n",
      "{'MinMaxScaler - Methane': 0.021017783720493427, 'StandardScaler - Methane': 0.3149414633604787, 'MaxAbsScaler - Methane': 0.021017783720493465}\n",
      "{'MinMaxScaler - Methane': 0.021017783720493274, 'StandardScaler - Methane': 0.3149414633604744, 'MaxAbsScaler - Methane': 0.02101778372049327}\n"
     ]
    }
   ],
   "source": [
    "Variance_Meth_LR = {'MinMaxScaler - Methane' : minmaxscaler_r2_LR,\n",
    "           'StandardScaler -Methane': stdscaler_r2_LR,\n",
    "           'MaxAbsScaler - Methane' : maxabscaler_r2_LR}\n",
    "\n",
    "Residual_Sum_of_Squares_Meth_LR = {'MinMaxScaler - Methane' :minmaxscaler_residual_LR,\n",
    "           'StandardScaler - Methane': stdxscaler_residual_LR,\n",
    "           'MaxAbsScaler - Methane' : maxabscaler_residual_LR}\n",
    "Mean_Squared_Error_Meth_LR = {'MinMaxScaler - Methane': minmaxscaler_squared_LR,\n",
    "           'StandardScaler - Methane': stdscaler_squared_LR,\n",
    "           'MaxAbsScaler - Methane' : maxabscaler_squared_LR}\n",
    "\n",
    "print(Variance_Meth_LR)\n",
    "\n",
    "print(Residual_Sum_of_Squares_Meth_LR)\n",
    "\n",
    "print(Mean_Squared_Error_Meth_LR)\n"
   ]
  },
  {
   "cell_type": "code",
   "execution_count": 12,
   "id": "96b42435",
   "metadata": {},
   "outputs": [
    {
     "name": "stdout",
     "output_type": "stream",
     "text": [
      "r2 / variance :  0.6302109948687982\n",
      "Residual sum of squares: 0.03\n"
     ]
    }
   ],
   "source": [
    "#Now considering Ethylene detection\n",
    "#MinMax Scaler\n",
    "msc = MinMaxScaler()\n",
    "\n",
    "dg = pd.DataFrame(msc.fit_transform(dg),columns = dg.columns)\n",
    "\n",
    "y_eth = 'Ethylene conc (ppm)'\n",
    "feature_cols = [x for x in dg.columns if x != y_eth]\n",
    "X_data = dg[feature_cols]\n",
    "y_data_eth = dg[y_eth]\n",
    "\n",
    "X_train, X_test, y_train, y_test = train_test_split(X_data, y_data_eth,\n",
    "                                                    test_size=0.3, random_state=42)\n",
    "\n",
    "LR = LinearRegression()\n",
    "parameters = {'fit_intercept':[True,False], 'normalize':[True,False], 'copy_X':[True, False]}\n",
    "grid_eth = GridSearchCV(LR,parameters, cv=3)\n",
    "grid_eth.fit(X_train, y_train)\n",
    "\n",
    "print (\"r2 / variance : \", grid_eth.best_score_)\n",
    "print(\"Residual sum of squares: %.2f\"\n",
    "              % np.mean((grid_eth.predict(X_test) - y_test) ** 2))\n",
    "\n",
    "minmaxscaler_r2_eth = grid_eth.best_score_\n",
    "minmaxscaler_residual_eth = np.mean((grid_eth.predict(X_test) - y_test) ** 2)\n",
    "minmaxscaler_squared_eth = mean_squared_error(y_test,grid_eth.predict(X_test))"
   ]
  },
  {
   "cell_type": "code",
   "execution_count": 13,
   "id": "91ae992c",
   "metadata": {},
   "outputs": [
    {
     "data": {
      "text/plain": [
       "LinearRegression(normalize=True)"
      ]
     },
     "execution_count": 13,
     "metadata": {},
     "output_type": "execute_result"
    }
   ],
   "source": [
    "grid_eth.best_estimator_"
   ]
  },
  {
   "cell_type": "code",
   "execution_count": 14,
   "id": "19ec326a",
   "metadata": {},
   "outputs": [
    {
     "data": {
      "image/png": "[encoded data removed]",
      "text/plain": [
       "<Figure size 432x288 with 1 Axes>"
      ]
     },
     "metadata": {},
     "output_type": "display_data"
    }
   ],
   "source": [
    "%matplotlib inline\n",
    "\n",
    "sns.set_context('talk')\n",
    "sns.set_style('ticks')\n",
    "sns.set_palette('dark')\n",
    "\n",
    "ax = plt.axes()\n",
    "\n",
    "ax.scatter(y_test,grid_eth.predict(X_test),alpha=0.5)\n",
    "\n",
    "ax.set(xlabel='Ground Truth',\n",
    "      ylabel = 'Predictions',\n",
    "      title = 'Ethylene MinMax Scaler Predictions vs Ground Truth');"
   ]
  },
  {
   "cell_type": "code",
   "execution_count": 15,
   "id": "6df2fc3f",
   "metadata": {},
   "outputs": [
    {
     "name": "stdout",
     "output_type": "stream",
     "text": [
      "r2 / variance :  0.6302110435078742\n",
      "Residual sum of squares: 0.37\n"
     ]
    }
   ],
   "source": [
    "#Using Std Scaler\n",
    "std = StandardScaler()\n",
    "\n",
    "dg = pd.DataFrame(std.fit_transform(dg),columns = dg.columns)\n",
    "\n",
    "y_eth = 'Ethylene conc (ppm)'\n",
    "feature_cols = [x for x in dg.columns if x != y_eth]\n",
    "X_data = dg[feature_cols]\n",
    "y_data_eth = dg[y_eth]\n",
    "\n",
    "X_train, X_test, y_train, y_test = train_test_split(X_data, y_data_eth,\n",
    "                                                    test_size=0.3, random_state=42)\n",
    "\n",
    "LR = LinearRegression()\n",
    "parameters = {'fit_intercept':[True,False], 'normalize':[True,False], 'copy_X':[True, False]}\n",
    "grid_eth = GridSearchCV(LR,parameters, cv=3)\n",
    "grid_eth.fit(X_train, y_train)\n",
    "\n",
    "print (\"r2 / variance : \", grid_eth.best_score_)\n",
    "print(\"Residual sum of squares: %.2f\"\n",
    "              % np.mean((grid_eth.predict(X_test) - y_test) ** 2))\n",
    "\n",
    "stdscaler_r2_eth = grid_eth.best_score_\n",
    "stdscaler_residual_eth = np.mean((grid_eth.predict(X_test) - y_test) ** 2)\n",
    "stdscaler_squared_eth = mean_squared_error(y_test,grid_eth.predict(X_test))"
   ]
  },
  {
   "cell_type": "code",
   "execution_count": 16,
   "id": "3c82db5f",
   "metadata": {},
   "outputs": [
    {
     "data": {
      "text/plain": [
       "LinearRegression(fit_intercept=False, normalize=True)"
      ]
     },
     "execution_count": 16,
     "metadata": {},
     "output_type": "execute_result"
    }
   ],
   "source": [
    "grid_eth.best_estimator_"
   ]
  },
  {
   "cell_type": "code",
   "execution_count": 17,
   "id": "19494cbc",
   "metadata": {},
   "outputs": [
    {
     "data": {
      "image/png": "[encoded data removed]",
      "text/plain": [
       "<Figure size 432x288 with 1 Axes>"
      ]
     },
     "metadata": {},
     "output_type": "display_data"
    }
   ],
   "source": [
    "%matplotlib inline\n",
    "\n",
    "sns.set_context('talk')\n",
    "sns.set_style('ticks')\n",
    "sns.set_palette('dark')\n",
    "\n",
    "ax = plt.axes()\n",
    "\n",
    "ax.scatter(y_test,grid_eth.predict(X_test),alpha=0.5)\n",
    "\n",
    "ax.set(xlabel='Ground Truth',\n",
    "      ylabel = 'Predictions',\n",
    "      title = 'Ethylene Standard Scaler Predictions vs Ground Truth');"
   ]
  },
  {
   "cell_type": "code",
   "execution_count": 18,
   "id": "dc0c2e77",
   "metadata": {},
   "outputs": [
    {
     "name": "stdout",
     "output_type": "stream",
     "text": [
      "r2 / variance :  0.6302110435078742\n",
      "Residual sum of squares: 0.05\n"
     ]
    }
   ],
   "source": [
    "mabs = MaxAbsScaler()\n",
    "\n",
    "dg = pd.DataFrame(mabs.fit_transform(dg),columns = dg.columns)\n",
    "\n",
    "y_eth = 'Ethylene conc (ppm)'\n",
    "feature_cols = [x for x in dg.columns if x != y_eth]\n",
    "X_data = dg[feature_cols]\n",
    "y_data_eth = dg[y_eth]\n",
    "\n",
    "X_train, X_test, y_train, y_test = train_test_split(X_data, y_data_eth,\n",
    "                                                    test_size=0.3, random_state=42)\n",
    "\n",
    "LR = LinearRegression()\n",
    "parameters = {'fit_intercept':[True,False], 'normalize':[True,False], 'copy_X':[True, False]}\n",
    "grid_eth = GridSearchCV(LR,parameters, cv=3)\n",
    "grid_eth.fit(X_train, y_train)\n",
    "\n",
    "print (\"r2 / variance : \", grid_eth.best_score_)\n",
    "print(\"Residual sum of squares: %.2f\"\n",
    "              % np.mean((grid_eth.predict(X_test) - y_test) ** 2))\n",
    "\n",
    "maxabscaler_r2_eth = grid_eth.best_score_\n",
    "maxabscaler_residual_eth = np.mean((grid_eth.predict(X_test) - y_test) ** 2)\n",
    "maxabscaler_squared_eth = mean_squared_error(y_test,grid_eth.predict(X_test))"
   ]
  },
  {
   "cell_type": "code",
   "execution_count": 19,
   "id": "709c484b",
   "metadata": {},
   "outputs": [
    {
     "data": {
      "text/plain": [
       "LinearRegression(fit_intercept=False, normalize=True)"
      ]
     },
     "execution_count": 19,
     "metadata": {},
     "output_type": "execute_result"
    }
   ],
   "source": [
    "grid_eth.best_estimator_"
   ]
  },
  {
   "cell_type": "code",
   "execution_count": 20,
   "id": "4ac975c2",
   "metadata": {},
   "outputs": [
    {
     "data": {
      "image/png": "[encoded data removed]",
      "text/plain": [
       "<Figure size 432x288 with 1 Axes>"
      ]
     },
     "metadata": {},
     "output_type": "display_data"
    }
   ],
   "source": [
    "%matplotlib inline\n",
    "\n",
    "sns.set_context('talk')\n",
    "sns.set_style('ticks')\n",
    "sns.set_palette('dark')\n",
    "\n",
    "ax = plt.axes()\n",
    "\n",
    "ax.scatter(y_test,grid_eth.predict(X_test),alpha=0.5)\n",
    "\n",
    "ax.set(xlabel='Ground Truth',\n",
    "      ylabel = 'Predictions',\n",
    "      title = 'Ethylene MaxAbs Scaler Predictions vs Ground Truth');"
   ]
  },
  {
   "cell_type": "code",
   "execution_count": 21,
   "id": "126d4da4",
   "metadata": {},
   "outputs": [
    {
     "name": "stdout",
     "output_type": "stream",
     "text": [
      "{'MinMaxScaler - Ethylene': 0.6302109948687982, 'StandardScaler - Ethylene': 0.6302110435078742, 'MaxAbsScaler - Ethylene': 0.6302110435078742}\n",
      "{'MinMaxScaler - Ethylene': 0.028181032976002385, 'StandardScaler - Ethylene': 0.3697723726671941, 'MaxAbsScaler - Ethylene': 0.04613914000613675}\n",
      "{'MinMaxScaler - Ethylene': 0.028181032976002152, 'StandardScaler - Ethylene': 0.36977237266721236, 'MaxAbsScaler - Ethylene': 0.04613914000613482}\n"
     ]
    }
   ],
   "source": [
    "Variance_Eth_LR = {'MinMaxScaler - Ethylene' : minmaxscaler_r2_eth,\n",
    "           'StandardScaler - Ethylene': stdscaler_r2_eth,\n",
    "           'MaxAbsScaler - Ethylene' : maxabscaler_r2_eth}\n",
    "\n",
    "Residual_Sum_of_Squares_Eth_LR = {'MinMaxScaler - Ethylene' :minmaxscaler_residual_eth,\n",
    "           'StandardScaler - Ethylene': stdscaler_residual_eth,\n",
    "           'MaxAbsScaler - Ethylene' : maxabscaler_residual_eth}\n",
    "Mean_Squared_Error_Eth_LR = {'MinMaxScaler - Ethylene': minmaxscaler_squared_eth,\n",
    "           'StandardScaler - Ethylene': stdscaler_squared_eth,\n",
    "           'MaxAbsScaler - Ethylene' : maxabscaler_squared_eth}\n",
    "\n",
    "print(Variance_Eth_LR)\n",
    "\n",
    "print(Residual_Sum_of_Squares_Eth_LR)\n",
    "\n",
    "print(Mean_Squared_Error_Eth_LR)"
   ]
  },
  {
   "cell_type": "code",
   "execution_count": null,
   "id": "8c6d2363",
   "metadata": {},
   "outputs": [],
   "source": []
  },
  {
   "cell_type": "code",
   "execution_count": null,
   "id": "9c2625db",
   "metadata": {},
   "outputs": [],
   "source": []
  }
 ],
 "metadata": {
  "kernelspec": {
   "display_name": "Python 3",
   "language": "python",
   "name": "python3"
  },
  "language_info": {
   "codemirror_mode": {
    "name": "ipython",
    "version": 3
   },
   "file_extension": ".py",
   "mimetype": "text/x-python",
   "name": "python",
   "nbconvert_exporter": "python",
   "pygments_lexer": "ipython3",
   "version": "3.8.8"
  }
 },
 "nbformat": 4,
 "nbformat_minor": 5
}
